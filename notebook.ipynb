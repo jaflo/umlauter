{
 "cells": [
  {
   "cell_type": "code",
   "execution_count": 1,
   "metadata": {},
   "outputs": [],
   "source": [
    "import json\n",
    "import csv\n",
    "import copy"
   ]
  },
  {
   "cell_type": "code",
   "execution_count": 2,
   "metadata": {},
   "outputs": [
    {
     "data": {
      "text/plain": [
       "363935"
      ]
     },
     "execution_count": 2,
     "metadata": {},
     "output_type": "execute_result"
    }
   ],
   "source": [
    "lookaround = 4\n",
    "\n",
    "# characters to use to denote special parts of words\n",
    "outside = \" \"\n",
    "boundary = \"#\"\n",
    "self = \"_\"\n",
    "anything = \"*\"\n",
    "padding = outside * (lookaround-1)\n",
    "\n",
    "# letters to target to fix\n",
    "replaceable = \"äöü\"\n",
    "unreplace = {\n",
    "    \"ae\": \"ä\",\n",
    "    \"oe\": \"ö\",\n",
    "    \"ue\": \"ü\"\n",
    "}\n",
    "\n",
    "def pad(x):\n",
    "    return padding+boundary+x+boundary+padding\n",
    "\n",
    "def is_valid(s):\n",
    "    return all(ord(c) < 128 or c in replaceable for c in s)\n",
    "\n",
    "counts = {}\n",
    "words = []\n",
    "\n",
    "with open(\"deu_mixed-typical_2011_1M-words.txt\") as tsvfile: # http://wortschatz.uni-leipzig.de/en/download\n",
    "    reader = csv.reader(tsvfile, delimiter='\\t', quotechar=None)\n",
    "    for row in reader:\n",
    "        word = row[2].strip().lower()\n",
    "        counts[pad(word)] = int(row[3])\n",
    "        words.append(word)\n",
    "\n",
    "words = [x.lower() for x in words if not x.isupper()] # remove acronyms (hopefully)\n",
    "words = [x for x in words if x.isalpha() and is_valid(x)] # remove non-letter stuff\n",
    "\n",
    "targets = [pad(x) for x in words]\n",
    "len(targets)"
   ]
  },
  {
   "cell_type": "code",
   "execution_count": 3,
   "metadata": {},
   "outputs": [
    {
     "data": {
      "text/plain": [
       "['   #der#   ', '   #ein#   ', '   #sich#   ', '   #zu#   ', '   #bei#   ']"
      ]
     },
     "execution_count": 3,
     "metadata": {},
     "output_type": "execute_result"
    }
   ],
   "source": [
    "targets[:50:10]"
   ]
  },
  {
   "cell_type": "code",
   "execution_count": 4,
   "metadata": {},
   "outputs": [
    {
     "name": "stdout",
     "output_type": "stream",
     "text": [
      "done\n"
     ]
    }
   ],
   "source": [
    "probs_before = {}\n",
    "probs_after = {}\n",
    "\n",
    "def insert_sub(dic, string, count):\n",
    "    if len(string) == 0:\n",
    "        return\n",
    "    elif len(string) == 1:\n",
    "        match = string[0]\n",
    "        # group together all non-replaceable end characters\n",
    "        if match not in replaceable:\n",
    "            match = anything\n",
    "        # initialize if not existant\n",
    "        if match not in dic:\n",
    "            dic[match] = {}\n",
    "        # use a special leaf node and increment the count of that frequency\n",
    "        dic[match][self] = dic[match].get(self, 0) + count\n",
    "    elif string[0] == outside:\n",
    "        insert_sub(dic, string[1:], count)\n",
    "    elif len(string) > 1:\n",
    "        match = string[0]\n",
    "        if match not in dic:\n",
    "            dic[match] = {self: 0}\n",
    "        insert_sub(dic[match], string[1:], count)\n",
    "\n",
    "for word in targets:\n",
    "    for pos, letter in enumerate(word):\n",
    "        insert_sub(probs_before, word[pos-lookaround : pos+1], counts[word])\n",
    "        insert_sub(probs_after, word[pos : pos+lookaround+1][::-1], counts[word])\n",
    "\n",
    "print(\"done\")"
   ]
  },
  {
   "cell_type": "code",
   "execution_count": 5,
   "metadata": {},
   "outputs": [],
   "source": [
    "def simplify(dic):\n",
    "    removable = []\n",
    "    for key in dic:\n",
    "        if type(dic[key]) is int:\n",
    "            if dic[key] == 0:\n",
    "                removable.append(key)\n",
    "            elif len(dic) == 1:\n",
    "                return dic[key]\n",
    "        else:\n",
    "            val = simplify(dic[key])\n",
    "            if val is not None:\n",
    "                dic[key] = val\n",
    "    for key in removable:\n",
    "        del dic[key]\n",
    "\n",
    "simplify(probs_before)\n",
    "simplify(probs_after)"
   ]
  },
  {
   "cell_type": "code",
   "execution_count": 6,
   "metadata": {},
   "outputs": [
    {
     "data": {
      "text/plain": [
       "3038895"
      ]
     },
     "execution_count": 6,
     "metadata": {},
     "output_type": "execute_result"
    }
   ],
   "source": [
    "package = {\n",
    "    \"version\": 1,\n",
    "    \"params\": {\n",
    "        \"lookaround\": lookaround,\n",
    "        \"outside\": outside,\n",
    "        \"boundary\": boundary,\n",
    "        \"self\": self,\n",
    "        \"anything\": anything,\n",
    "        \"padding\": padding,\n",
    "        \"replaceable\": replaceable,\n",
    "        \"unreplace\": unreplace\n",
    "    },\n",
    "    \"before\": probs_before,\n",
    "    \"after\": probs_after\n",
    "}\n",
    "\n",
    "with open(\"ext/src/dump.json\", 'w') as outfile:\n",
    "    json.dump(package, outfile, separators=(',', ':'))\n",
    "\n",
    "len(json.dumps(package, separators=(',', ':')))"
   ]
  },
  {
   "cell_type": "code",
   "execution_count": 7,
   "metadata": {},
   "outputs": [],
   "source": [
    "def explore(pointer, string, orig, target):\n",
    "    for letter in string:\n",
    "        if letter == outside:\n",
    "            continue\n",
    "        if letter not in pointer:\n",
    "            return 0\n",
    "        pointer = pointer[letter]\n",
    "    max_count = 1\n",
    "    target_count = 1\n",
    "    orig_count = 1\n",
    "    if type(pointer) is not int:\n",
    "        for possibility in pointer:\n",
    "            if possibility == self:\n",
    "                continue\n",
    "            freq = extract_freq(pointer[possibility])\n",
    "            if freq > max_count:\n",
    "                max_count = freq\n",
    "        if target in pointer:\n",
    "            target_count = extract_freq(pointer[target])\n",
    "        for i in range(len(orig)):\n",
    "            letter = orig[i]\n",
    "            if i == len(orig) - 1:\n",
    "                letter = anything\n",
    "            if letter not in pointer:\n",
    "                break\n",
    "            pointer = pointer[letter]\n",
    "            orig_count = max(extract_freq(pointer), 1)\n",
    "    return target_count/max_count\n",
    "\n",
    "def extract_freq(dic):\n",
    "    freq = dic\n",
    "    if type(freq) is not int:\n",
    "        if self in dic:\n",
    "            freq = dic[self]\n",
    "        else:\n",
    "            freq = 0\n",
    "    return freq\n",
    "\n",
    "def avg(a, b):\n",
    "    return (a+b)/2"
   ]
  },
  {
   "cell_type": "code",
   "execution_count": 8,
   "metadata": {},
   "outputs": [
    {
     "name": "stdout",
     "output_type": "stream",
     "text": [
      "Umlauts changed correctly:        0.9058\n",
      "Non-umlauts changed incorrectly:  0.0026\n",
      "F-1 score:                        0.9431\n",
      "\n",
      "müsste (0.0474) Mühe (0.0474) zuerst (0.9859) neue (0.9999) Müller (0.0474) früher (0.1473) anhängen (0.4901) drangehängt (0.3098) Nürnberg (0.8122) abfüllen (0.0455) Fussball (1.0000) Brühe (0.0817) rührend (0.2050) Zuerich (0.9859) löten (0.0361) zögern (0.0347) anloeten (0.9985) ähnlich (1.0000) früher (0.1473) Kühe (0.0376) Erläuterungen (0.3591) erneuern (0.9998) genügend (0.0281) Züge (0.0398) Nussnacker (1.0000) \n"
     ]
    }
   ],
   "source": [
    "def suggest(word):\n",
    "#     for key in unreplace:\n",
    "#         word = word.replace(key, unreplace[key])\n",
    "#     return (word, 1)\n",
    "    word = pad(word)\n",
    "    string = word.lower()\n",
    "    confidence = 1\n",
    "    # check if there is a potential target\n",
    "    if any(x in string for x in unreplace):\n",
    "        for pos in range(2, len(string)-3):\n",
    "            orig = string[pos : pos+2]\n",
    "            if orig in unreplace:\n",
    "                target = unreplace[orig]\n",
    "                prob_b = explore(probs_before, string[pos-lookaround-1 : pos], orig, target)\n",
    "                prob_a = explore(probs_after, string[pos+2 : pos+lookaround+2][::-1], orig, target)\n",
    "                prob = max(prob_a, prob_b)\n",
    "                if prob > 0.02:\n",
    "                    word = word[:pos]+target+word[pos+2:]\n",
    "                    string = string[:pos]+target+string[pos+2:]\n",
    "                    pos -= 2\n",
    "                    confidence *= prob\n",
    "                else:\n",
    "                    confidence *= (1 - prob)\n",
    "    return (word[lookaround:len(word)-lookaround], confidence)\n",
    "\n",
    "## Benchmarking below\n",
    "\n",
    "total_uml = 0\n",
    "correct_uml = 0\n",
    "total_non_uml = 0\n",
    "correct_non_uml = 0\n",
    "\n",
    "for word in words:\n",
    "    umlaut = any(x in word for x in replaceable)\n",
    "    given = word\n",
    "    count = counts[pad(word)]\n",
    "    for key in unreplace:\n",
    "        given = given.replace(unreplace[key], key)\n",
    "    result = suggest(given)[0]\n",
    "    if umlaut:\n",
    "        total_uml += count\n",
    "        if result == word:\n",
    "            correct_uml += count\n",
    "    else:\n",
    "        total_non_uml += count\n",
    "        if result == word:\n",
    "            correct_non_uml += count\n",
    "\n",
    "print(\"Umlauts changed correctly:       \", round(correct_uml/total_uml, 5))\n",
    "print(\"Non-umlauts changed incorrectly: \", round((1-(correct_non_uml/total_non_uml)), 5))\n",
    "\n",
    "precision = correct_uml / total_uml\n",
    "recall = (correct_uml+correct_non_uml) / (total_uml+total_non_uml)\n",
    "f1 = 2 * (precision * recall) / (precision + recall)\n",
    "print(\"F-1 score:                       \", round(f1, 5))\n",
    "\n",
    "example = \"muesste Muehe zuerst neue Mueller frueher anhaengen drangehaengt Nuernberg \\\n",
    "abfuellen Fussball Bruehe ruehrend Zuerich loeten zoegern anloeten aehnlich frueher \\\n",
    "Kuehe Erlaeuterungen erneuern genuegend Zuege Nussnacker\".split(\" \")\n",
    "output = \"\\n\"\n",
    "\n",
    "for word in example:\n",
    "    suggestion = suggest(word)\n",
    "    output += \"{} ({:.4f}) \".format(suggestion[0], suggestion[1])\n",
    "\n",
    "print(output)"
   ]
  }
 ],
 "metadata": {
  "kernelspec": {
   "display_name": "Python 3",
   "language": "python",
   "name": "python3"
  },
  "language_info": {
   "codemirror_mode": {
    "name": "ipython",
    "version": 3
   },
   "file_extension": ".py",
   "mimetype": "text/x-python",
   "name": "python",
   "nbconvert_exporter": "python",
   "pygments_lexer": "ipython3",
   "version": "3.6.5"
  }
 },
 "nbformat": 4,
 "nbformat_minor": 2
}
